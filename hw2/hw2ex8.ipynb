{
 "cells": [
  {
   "cell_type": "code",
   "execution_count": null,
   "id": "f931647a-a453-40d8-b739-99f5d7628a53",
   "metadata": {},
   "outputs": [],
   "source": [
    "# 8. Автоэнкодер для уменьшения размерности данных с последующей классификацией: Создание автоэнкодера, \n",
    "# который снижает размерность высокоразмерных данных, после чего сжатые представления используются для задач классификации."
   ]
  },
  {
   "cell_type": "code",
   "execution_count": null,
   "id": "25285d88-1ab7-4667-bd4f-15a88ff588ed",
   "metadata": {},
   "outputs": [],
   "source": [
    "# делаем автоенкодер"
   ]
  },
  {
   "cell_type": "code",
   "execution_count": 1,
   "id": "982062c4-7932-49f8-b8a8-a8c50ad23062",
   "metadata": {},
   "outputs": [
    {
     "name": "stdout",
     "output_type": "stream",
     "text": [
      "ok\n"
     ]
    }
   ],
   "source": [
    "import torch\n",
    "import torch.nn as nn\n",
    "from torch.nn import functional as F\n",
    "\n",
    "class Autoencoder1(nn.Module):\n",
    "    def __init__(self, input_dim, encoding_dim):\n",
    "        super(Autoencoder1, self).__init__()\n",
    "\n",
    "        # Энкодер\n",
    "        self.fc1 = nn.Linear(input_dim, 128)\n",
    "        self.relu1 = nn.ReLU()\n",
    "        self.fc2 = nn.Linear(128, encoding_dim)\n",
    "        self.relu2 = nn.ReLU()\n",
    "        \n",
    "        # Декодер\n",
    "        self.fc3 = nn.Linear(encoding_dim, 128)\n",
    "        self.relu3 = nn.ReLU()\n",
    "        self.fc4 = nn.Linear(128, input_dim)\n",
    "        self.sigmoid = nn.Sigmoid()\n",
    "\n",
    "    def encode(self, x):\n",
    "        x = self.fc1(x)\n",
    "        x = self.relu1(x)\n",
    "        x = self.fc2(x)\n",
    "        x = self.relu2(x)\n",
    "        return x\n",
    "\n",
    "    def decode(self, z):\n",
    "        z = self.fc3(z)\n",
    "        z = self.relu3(z)\n",
    "        z = self.fc4(z)\n",
    "        z = self.sigmoid(z)\n",
    "        return z\n",
    "        \n",
    "    def forward(self, x):\n",
    "        encoded = self.encode(x)\n",
    "        decoded = self.decode(encoded)\n",
    "        return encoded, decoded, x\n",
    "        \n",
    "        \n",
    "        return x\n",
    "print('ok')"
   ]
  },
  {
   "cell_type": "code",
   "execution_count": null,
   "id": "edf80367-b8ba-4783-8233-be34dac45f86",
   "metadata": {},
   "outputs": [],
   "source": [
    "# загружаем данные"
   ]
  },
  {
   "cell_type": "code",
   "execution_count": 2,
   "id": "0ea673a8-cb63-4307-bf72-75567b883293",
   "metadata": {},
   "outputs": [
    {
     "name": "stdout",
     "output_type": "stream",
     "text": [
      "load csv\n",
      "                     dt    open   close    high     low                Date\n",
      "0      2008.01.02 10:00  1.4661  1.4661  1.4666  1.4658 2008-01-02 10:00:00\n",
      "1      2008.01.02 10:15  1.4660  1.4652  1.4661  1.4651 2008-01-02 10:15:00\n",
      "2      2008.01.02 10:30  1.4651  1.4657  1.4657  1.4651 2008-01-02 10:30:00\n",
      "3      2008.01.02 10:45  1.4656  1.4653  1.4657  1.4650 2008-01-02 10:45:00\n",
      "4      2008.01.02 11:00  1.4652  1.4655  1.4663  1.4650 2008-01-02 11:00:00\n",
      "...                 ...     ...     ...     ...     ...                 ...\n",
      "24409  2008.12.31 16:45  1.3965  1.3898  1.3966  1.3890 2008-12-31 16:45:00\n",
      "24410  2008.12.31 17:00  1.3896  1.3917  1.3932  1.3887 2008-12-31 17:00:00\n",
      "24411  2008.12.31 17:15  1.3919  1.3971  1.3971  1.3915 2008-12-31 17:15:00\n",
      "24412  2008.12.31 17:30  1.3974  1.3956  1.3984  1.3954 2008-12-31 17:30:00\n",
      "24413  2008.12.31 17:45  1.3957  1.3917  1.3957  1.3914 2008-12-31 17:45:00\n",
      "\n",
      "[24414 rows x 6 columns]\n",
      "                 dt    open   close    high     low                Date\n",
      "0  2008.01.02 10:00  1.4661  1.4661  1.4666  1.4658 2008-01-02 10:00:00\n",
      "1  2008.01.02 10:15  1.4660  1.4652  1.4661  1.4651 2008-01-02 10:15:00\n",
      "2  2008.01.02 10:30  1.4651  1.4657  1.4657  1.4651 2008-01-02 10:30:00\n",
      "3  2008.01.02 10:45  1.4656  1.4653  1.4657  1.4650 2008-01-02 10:45:00\n",
      "4  2008.01.02 11:00  1.4652  1.4655  1.4663  1.4650 2008-01-02 11:00:00\n",
      "<class 'pandas.core.frame.DataFrame'>\n",
      "RangeIndex: 24414 entries, 0 to 24413\n",
      "Data columns (total 6 columns):\n",
      " #   Column  Non-Null Count  Dtype         \n",
      "---  ------  --------------  -----         \n",
      " 0   dt      24414 non-null  object        \n",
      " 1   open    24414 non-null  float64       \n",
      " 2   close   24414 non-null  float64       \n",
      " 3   high    24414 non-null  float64       \n",
      " 4   low     24414 non-null  float64       \n",
      " 5   Date    24414 non-null  datetime64[ns]\n",
      "dtypes: datetime64[ns](1), float64(4), object(1)\n",
      "memory usage: 1.1+ MB\n",
      "None\n",
      "               open         close          high           low  \\\n",
      "count  24414.000000  24414.000000  24414.000000  24414.000000   \n",
      "mean       1.471454      1.471448      1.472274      1.470627   \n",
      "min        1.234700      1.234800      1.235700      1.232900   \n",
      "25%        1.412300      1.412300      1.413525      1.411200   \n",
      "50%        1.481800      1.481800      1.482400      1.481300   \n",
      "75%        1.558800      1.558800      1.559400      1.558300   \n",
      "max        1.601300      1.601400      1.603800      1.600000   \n",
      "std        0.103100      0.103102      0.102848      0.103357   \n",
      "\n",
      "                                Date  \n",
      "count                          24414  \n",
      "mean   2008-07-01 21:40:06.561808640  \n",
      "min              2008-01-02 10:00:00  \n",
      "25%              2008-04-02 15:33:45  \n",
      "50%              2008-07-01 18:22:30  \n",
      "75%              2008-09-30 21:11:15  \n",
      "max              2008-12-31 17:45:00  \n",
      "std                              NaN  \n"
     ]
    }
   ],
   "source": [
    "import pandas as pd\n",
    "\n",
    "def print_separator(title):\n",
    "    print(\"\\n\" + \"=\"*80)\n",
    "    print(title)\n",
    "    print(\"=\"*80 + \"\\n\")\n",
    "\n",
    "print(\"load csv\")\n",
    "dataset = pd.read_csv('../hw1/hw1ex2-rates.csv')\n",
    "dataset['Date'] = pd.to_datetime(dataset['dt'])\n",
    "\n",
    "print(dataset)\n",
    "print(dataset.head())\n",
    "print(dataset.info())\n",
    "print(dataset.describe())"
   ]
  },
  {
   "cell_type": "code",
   "execution_count": null,
   "id": "0543ba1d-e77e-447a-9be7-72ec4cdef9d1",
   "metadata": {},
   "outputs": [],
   "source": [
    "# добавляем лаги"
   ]
  },
  {
   "cell_type": "code",
   "execution_count": 3,
   "id": "83aa247b-b74b-4fd2-bf38-a50a79d67301",
   "metadata": {},
   "outputs": [],
   "source": [
    "lag = 15\n",
    "for i in range(1, lag + 1):\n",
    "        dataset[f'lag_{i}'] = dataset['close'].shift(i)\n",
    "\n",
    "dataset.dropna(inplace=True)"
   ]
  },
  {
   "cell_type": "code",
   "execution_count": null,
   "id": "e79b5f62-74b2-48d7-8a22-6858f46a0de8",
   "metadata": {},
   "outputs": [],
   "source": [
    "# создаем метки для классификации\n",
    "# 1 up, 2 - down, 0 - none"
   ]
  },
  {
   "cell_type": "code",
   "execution_count": 4,
   "id": "a5d59f01-4894-42be-9458-70ac01a49e96",
   "metadata": {},
   "outputs": [
    {
     "name": "stdout",
     "output_type": "stream",
     "text": [
      "                     dt    open   close    high     low                Date  \\\n",
      "15     2008.01.02 13:45  1.4686  1.4688  1.4689  1.4684 2008-01-02 13:45:00   \n",
      "16     2008.01.02 14:00  1.4689  1.4685  1.4698  1.4682 2008-01-02 14:00:00   \n",
      "17     2008.01.02 14:15  1.4686  1.4676  1.4687  1.4670 2008-01-02 14:15:00   \n",
      "18     2008.01.02 14:30  1.4677  1.4666  1.4681  1.4664 2008-01-02 14:30:00   \n",
      "19     2008.01.02 14:45  1.4667  1.4661  1.4668  1.4661 2008-01-02 14:45:00   \n",
      "...                 ...     ...     ...     ...     ...                 ...   \n",
      "24409  2008.12.31 16:45  1.3965  1.3898  1.3966  1.3890 2008-12-31 16:45:00   \n",
      "24410  2008.12.31 17:00  1.3896  1.3917  1.3932  1.3887 2008-12-31 17:00:00   \n",
      "24411  2008.12.31 17:15  1.3919  1.3971  1.3971  1.3915 2008-12-31 17:15:00   \n",
      "24412  2008.12.31 17:30  1.3974  1.3956  1.3984  1.3954 2008-12-31 17:30:00   \n",
      "24413  2008.12.31 17:45  1.3957  1.3917  1.3957  1.3914 2008-12-31 17:45:00   \n",
      "\n",
      "        lag_1   lag_2   lag_3   lag_4  ...   lag_7   lag_8   lag_9  lag_10  \\\n",
      "15     1.4685  1.4691  1.4696  1.4685  ...  1.4687  1.4678  1.4668  1.4663   \n",
      "16     1.4688  1.4685  1.4691  1.4696  ...  1.4687  1.4687  1.4678  1.4668   \n",
      "17     1.4685  1.4688  1.4685  1.4691  ...  1.4686  1.4687  1.4687  1.4678   \n",
      "18     1.4676  1.4685  1.4688  1.4685  ...  1.4685  1.4686  1.4687  1.4687   \n",
      "19     1.4666  1.4676  1.4685  1.4688  ...  1.4696  1.4685  1.4686  1.4687   \n",
      "...       ...     ...     ...     ...  ...     ...     ...     ...     ...   \n",
      "24409  1.3964  1.3975  1.3970  1.3968  ...  1.3937  1.3872  1.3874  1.3850   \n",
      "24410  1.3898  1.3964  1.3975  1.3970  ...  1.3946  1.3937  1.3872  1.3874   \n",
      "24411  1.3917  1.3898  1.3964  1.3975  ...  1.3967  1.3946  1.3937  1.3872   \n",
      "24412  1.3971  1.3917  1.3898  1.3964  ...  1.3968  1.3967  1.3946  1.3937   \n",
      "24413  1.3956  1.3971  1.3917  1.3898  ...  1.3970  1.3968  1.3967  1.3946   \n",
      "\n",
      "       lag_11  lag_12  lag_13  lag_14  lag_15  labels  \n",
      "15     1.4655  1.4653  1.4657  1.4652  1.4661       0  \n",
      "16     1.4663  1.4655  1.4653  1.4657  1.4652       2  \n",
      "17     1.4668  1.4663  1.4655  1.4653  1.4657       2  \n",
      "18     1.4678  1.4668  1.4663  1.4655  1.4653       2  \n",
      "19     1.4687  1.4678  1.4668  1.4663  1.4655       2  \n",
      "...       ...     ...     ...     ...     ...     ...  \n",
      "24409  1.3923  1.3952  1.3950  1.3952  1.3968       2  \n",
      "24410  1.3850  1.3923  1.3952  1.3950  1.3952       1  \n",
      "24411  1.3874  1.3850  1.3923  1.3952  1.3950       1  \n",
      "24412  1.3872  1.3874  1.3850  1.3923  1.3952       2  \n",
      "24413  1.3937  1.3872  1.3874  1.3850  1.3923       2  \n",
      "\n",
      "[24399 rows x 22 columns]\n",
      "                  dt    open   close    high     low                Date  \\\n",
      "15  2008.01.02 13:45  1.4686  1.4688  1.4689  1.4684 2008-01-02 13:45:00   \n",
      "16  2008.01.02 14:00  1.4689  1.4685  1.4698  1.4682 2008-01-02 14:00:00   \n",
      "17  2008.01.02 14:15  1.4686  1.4676  1.4687  1.4670 2008-01-02 14:15:00   \n",
      "18  2008.01.02 14:30  1.4677  1.4666  1.4681  1.4664 2008-01-02 14:30:00   \n",
      "19  2008.01.02 14:45  1.4667  1.4661  1.4668  1.4661 2008-01-02 14:45:00   \n",
      "\n",
      "     lag_1   lag_2   lag_3   lag_4  ...   lag_7   lag_8   lag_9  lag_10  \\\n",
      "15  1.4685  1.4691  1.4696  1.4685  ...  1.4687  1.4678  1.4668  1.4663   \n",
      "16  1.4688  1.4685  1.4691  1.4696  ...  1.4687  1.4687  1.4678  1.4668   \n",
      "17  1.4685  1.4688  1.4685  1.4691  ...  1.4686  1.4687  1.4687  1.4678   \n",
      "18  1.4676  1.4685  1.4688  1.4685  ...  1.4685  1.4686  1.4687  1.4687   \n",
      "19  1.4666  1.4676  1.4685  1.4688  ...  1.4696  1.4685  1.4686  1.4687   \n",
      "\n",
      "    lag_11  lag_12  lag_13  lag_14  lag_15  labels  \n",
      "15  1.4655  1.4653  1.4657  1.4652  1.4661       0  \n",
      "16  1.4663  1.4655  1.4653  1.4657  1.4652       2  \n",
      "17  1.4668  1.4663  1.4655  1.4653  1.4657       2  \n",
      "18  1.4678  1.4668  1.4663  1.4655  1.4653       2  \n",
      "19  1.4687  1.4678  1.4668  1.4663  1.4655       2  \n",
      "\n",
      "[5 rows x 22 columns]\n",
      "<class 'pandas.core.frame.DataFrame'>\n",
      "Index: 24399 entries, 15 to 24413\n",
      "Data columns (total 22 columns):\n",
      " #   Column  Non-Null Count  Dtype         \n",
      "---  ------  --------------  -----         \n",
      " 0   dt      24399 non-null  object        \n",
      " 1   open    24399 non-null  float64       \n",
      " 2   close   24399 non-null  float64       \n",
      " 3   high    24399 non-null  float64       \n",
      " 4   low     24399 non-null  float64       \n",
      " 5   Date    24399 non-null  datetime64[ns]\n",
      " 6   lag_1   24399 non-null  float64       \n",
      " 7   lag_2   24399 non-null  float64       \n",
      " 8   lag_3   24399 non-null  float64       \n",
      " 9   lag_4   24399 non-null  float64       \n",
      " 10  lag_5   24399 non-null  float64       \n",
      " 11  lag_6   24399 non-null  float64       \n",
      " 12  lag_7   24399 non-null  float64       \n",
      " 13  lag_8   24399 non-null  float64       \n",
      " 14  lag_9   24399 non-null  float64       \n",
      " 15  lag_10  24399 non-null  float64       \n",
      " 16  lag_11  24399 non-null  float64       \n",
      " 17  lag_12  24399 non-null  float64       \n",
      " 18  lag_13  24399 non-null  float64       \n",
      " 19  lag_14  24399 non-null  float64       \n",
      " 20  lag_15  24399 non-null  float64       \n",
      " 21  labels  24399 non-null  int64         \n",
      "dtypes: datetime64[ns](1), float64(19), int64(1), object(1)\n",
      "memory usage: 4.3+ MB\n",
      "None\n",
      "               open         close          high           low  \\\n",
      "count  24399.000000  24399.000000  24399.000000  24399.000000   \n",
      "mean       1.471457      1.471450      1.472277      1.470629   \n",
      "min        1.234700      1.234800      1.235700      1.232900   \n",
      "25%        1.412300      1.412300      1.413500      1.411100   \n",
      "50%        1.481900      1.481900      1.482400      1.481300   \n",
      "75%        1.558800      1.558900      1.559400      1.558300   \n",
      "max        1.601300      1.601400      1.603800      1.600000   \n",
      "std        0.103131      0.103134      0.102880      0.103389   \n",
      "\n",
      "                                Date         lag_1         lag_2  \\\n",
      "count                          24399  24399.000000  24399.000000   \n",
      "mean   2008-07-02 00:20:42.677978368      1.471453      1.471456   \n",
      "min              2008-01-02 13:45:00      1.234800      1.234800   \n",
      "25%              2008-04-02 18:22:30      1.412300      1.412300   \n",
      "50%              2008-07-01 20:15:00      1.481900      1.481900   \n",
      "75%              2008-09-30 22:07:30      1.558900      1.558900   \n",
      "max              2008-12-31 17:45:00      1.601400      1.601400   \n",
      "std                              NaN      0.103133      0.103132   \n",
      "\n",
      "              lag_3         lag_4         lag_5  ...         lag_7  \\\n",
      "count  24399.000000  24399.000000  24399.000000  ...  24399.000000   \n",
      "mean       1.471459      1.471462      1.471466  ...      1.471472   \n",
      "min        1.234800      1.234800      1.234800  ...      1.234800   \n",
      "25%        1.412300      1.412300      1.412300  ...      1.412300   \n",
      "50%        1.481900      1.481900      1.481900  ...      1.481900   \n",
      "75%        1.558900      1.558900      1.558900  ...      1.558900   \n",
      "max        1.601400      1.601400      1.601400  ...      1.601400   \n",
      "std        0.103130      0.103129      0.103128  ...      0.103126   \n",
      "\n",
      "              lag_8         lag_9        lag_10        lag_11        lag_12  \\\n",
      "count  24399.000000  24399.000000  24399.000000  24399.000000  24399.000000   \n",
      "mean       1.471474      1.471477      1.471480      1.471483      1.471486   \n",
      "min        1.234800      1.234800      1.234800      1.234800      1.234800   \n",
      "25%        1.412350      1.412400      1.412400      1.412400      1.412400   \n",
      "50%        1.481900      1.481900      1.481900      1.481900      1.481900   \n",
      "75%        1.558900      1.558900      1.558900      1.558900      1.558900   \n",
      "max        1.601400      1.601400      1.601400      1.601400      1.601400   \n",
      "std        0.103125      0.103123      0.103122      0.103121      0.103120   \n",
      "\n",
      "             lag_13        lag_14        lag_15        labels  \n",
      "count  24399.000000  24399.000000  24399.000000  24399.000000  \n",
      "mean       1.471489      1.471492      1.471496      1.257593  \n",
      "min        1.234800      1.234800      1.234800      0.000000  \n",
      "25%        1.412400      1.412450      1.412500      1.000000  \n",
      "50%        1.481900      1.481900      1.481900      1.000000  \n",
      "75%        1.558900      1.558900      1.558900      2.000000  \n",
      "max        1.601400      1.601400      1.601400      2.000000  \n",
      "std        0.103119      0.103117      0.103116      0.714001  \n",
      "\n",
      "[8 rows x 21 columns]\n"
     ]
    }
   ],
   "source": [
    "labels = []\n",
    "close_prices = dataset['close'].values\n",
    "labels.insert(0, 0)\n",
    "for i in range(1, len(close_prices)):\n",
    "    change = close_prices[i] - close_prices[i - 1]\n",
    "    if change > 0.0001:\n",
    "        labels.append(1)\n",
    "    elif change < -0.0001:\n",
    "        labels.append(2)\n",
    "    else:\n",
    "        labels.append(0)\n",
    "\n",
    "dataset['labels'] = labels\n",
    "print(dataset)\n",
    "print(dataset.head())\n",
    "print(dataset.info())\n",
    "print(dataset.describe())"
   ]
  },
  {
   "cell_type": "code",
   "execution_count": null,
   "id": "761a494a-4438-4351-9da2-440c2c0044ac",
   "metadata": {},
   "outputs": [],
   "source": [
    "# создаем датасеты для обучения"
   ]
  },
  {
   "cell_type": "code",
   "execution_count": 5,
   "id": "306e7261-7d65-4339-8a43-fb915c48bdaa",
   "metadata": {},
   "outputs": [
    {
     "name": "stdout",
     "output_type": "stream",
     "text": [
      "features\n",
      "      open   close    high     low   lag_1   lag_2   lag_3   lag_4   lag_5  \\\n",
      "15  1.4686  1.4688  1.4689  1.4684  1.4685  1.4691  1.4696  1.4685  1.4686   \n",
      "16  1.4689  1.4685  1.4698  1.4682  1.4688  1.4685  1.4691  1.4696  1.4685   \n",
      "17  1.4686  1.4676  1.4687  1.4670  1.4685  1.4688  1.4685  1.4691  1.4696   \n",
      "18  1.4677  1.4666  1.4681  1.4664  1.4676  1.4685  1.4688  1.4685  1.4691   \n",
      "19  1.4667  1.4661  1.4668  1.4661  1.4666  1.4676  1.4685  1.4688  1.4685   \n",
      "\n",
      "     lag_6   lag_7   lag_8   lag_9  lag_10  lag_11  lag_12  lag_13  lag_14  \\\n",
      "15  1.4687  1.4687  1.4678  1.4668  1.4663  1.4655  1.4653  1.4657  1.4652   \n",
      "16  1.4686  1.4687  1.4687  1.4678  1.4668  1.4663  1.4655  1.4653  1.4657   \n",
      "17  1.4685  1.4686  1.4687  1.4687  1.4678  1.4668  1.4663  1.4655  1.4653   \n",
      "18  1.4696  1.4685  1.4686  1.4687  1.4687  1.4678  1.4668  1.4663  1.4655   \n",
      "19  1.4691  1.4696  1.4685  1.4686  1.4687  1.4687  1.4678  1.4668  1.4663   \n",
      "\n",
      "    lag_15  \n",
      "15  1.4661  \n",
      "16  1.4652  \n",
      "17  1.4657  \n",
      "18  1.4653  \n",
      "19  1.4655  \n",
      "labels\n",
      "    labels\n",
      "15       0\n",
      "16       2\n",
      "17       2\n",
      "18       2\n",
      "19       2\n"
     ]
    }
   ],
   "source": [
    "from sklearn.model_selection import train_test_split\n",
    "\n",
    "labels_ds = dataset[['labels']].copy()\n",
    "labels_ds = pd.DataFrame(labels_ds)\n",
    "\n",
    "features = dataset.drop('labels', axis=1)\n",
    "features.drop('dt', axis=1, inplace=True)\n",
    "features.drop('Date', axis=1, inplace=True)\n",
    "\n",
    "print('features')\n",
    "print(features.head())\n",
    "print('labels')\n",
    "print(labels_ds.head())"
   ]
  },
  {
   "cell_type": "code",
   "execution_count": null,
   "id": "a89532d7-0c66-4e47-bb82-8bcb4ace3129",
   "metadata": {},
   "outputs": [],
   "source": [
    "# матрица корреляции"
   ]
  },
  {
   "cell_type": "code",
   "execution_count": 6,
   "id": "fa450195-2731-44ab-b662-7a7a59c624fb",
   "metadata": {},
   "outputs": [
    {
     "data": {
      "image/png": "[encoded data removed]",
      "text/plain": [
       "<Figure size 640x480 with 2 Axes>"
      ]
     },
     "metadata": {},
     "output_type": "display_data"
    }
   ],
   "source": [
    "import numpy as np\n",
    "import seaborn as sns\n",
    "import matplotlib.pyplot as plt\n",
    "\n",
    "corr_matrix = np.corrcoef(features[:1000].T)\n",
    "sns.heatmap(corr_matrix, cmap='coolwarm')\n",
    "plt.show()"
   ]
  },
  {
   "cell_type": "code",
   "execution_count": null,
   "id": "c1652a97-aa08-4fc0-947c-cc4068a077f6",
   "metadata": {},
   "outputs": [],
   "source": [
    "# распределение классов "
   ]
  },
  {
   "cell_type": "code",
   "execution_count": 7,
   "id": "c27d9d46-3ce7-4306-ac11-319dbe45cb5e",
   "metadata": {},
   "outputs": [
    {
     "name": "stdout",
     "output_type": "stream",
     "text": [
      "Index(['labels'], dtype='object')\n",
      "False\n"
     ]
    },
    {
     "data": {
      "image/png": "[encoded data removed]",
      "text/plain": [
       "<Figure size 1000x1000 with 1 Axes>"
      ]
     },
     "metadata": {},
     "output_type": "display_data"
    }
   ],
   "source": [
    "print(labels_ds.columns)\n",
    "print(labels_ds.empty)\n",
    "labels_ds['labels'] = labels_ds['labels'].astype(str)\n",
    "\n",
    "plt.figure(figsize=(10,10))\n",
    "sns.countplot(x='labels', data=labels_ds);\n",
    "plt.show()"
   ]
  },
  {
   "cell_type": "code",
   "execution_count": null,
   "id": "0edb3fe9-4ccb-4366-b83f-fcfae7e7f833",
   "metadata": {},
   "outputs": [],
   "source": [
    "# используем GPU"
   ]
  },
  {
   "cell_type": "code",
   "execution_count": 8,
   "id": "fbacad25-5a13-4d71-9175-6b1b6d681d3b",
   "metadata": {},
   "outputs": [
    {
     "name": "stdout",
     "output_type": "stream",
     "text": [
      "True\n",
      "1\n",
      "NVIDIA GeForce GTX 1650\n",
      "cuda\n"
     ]
    }
   ],
   "source": [
    "import torch\n",
    "\n",
    "print(torch.cuda.is_available())  # Должно вернуть True, если GPU доступен\n",
    "print(torch.cuda.device_count())  # Количество доступных GPU\n",
    "print(torch.cuda.get_device_name(0))  # Название первого GPU\n",
    "\n",
    "device = torch.device(\"cuda\" if torch.cuda.is_available() else \"cpu\")\n",
    "print(device)"
   ]
  },
  {
   "cell_type": "code",
   "execution_count": null,
   "id": "a3573eac-41f6-4217-8411-00c88578f021",
   "metadata": {},
   "outputs": [],
   "source": [
    "# обучаем автоенкодер"
   ]
  },
  {
   "cell_type": "code",
   "execution_count": 12,
   "id": "fdcf2280-fb9f-4d7d-8ba4-cb9b8a948b0a",
   "metadata": {},
   "outputs": [
    {
     "name": "stdout",
     "output_type": "stream",
     "text": [
      "labels    object\n",
      "dtype: object\n",
      "labels    int64\n",
      "dtype: object\n",
      "Эпоха 1 [15200/17079 (89%)]\tПотеря: 0.0102\n",
      "====> Эпоха 1 Средняя потеря: 0.01300493\n",
      "====> Тестовая потеря: 0.01224895\n",
      "\n",
      "Эпоха 2 [15200/17079 (89%)]\tПотеря: 0.0122\n",
      "====> Эпоха 2 Средняя потеря: 0.01227483\n",
      "====> Тестовая потеря: 0.01224895\n",
      "\n",
      "Эпоха 3 [15200/17079 (89%)]\tПотеря: 0.0114\n",
      "====> Эпоха 3 Средняя потеря: 0.01227465\n",
      "====> Тестовая потеря: 0.01224894\n",
      "\n"
     ]
    }
   ],
   "source": [
    "import torch.optim as optim\n",
    "from torch.utils.data import DataLoader, TensorDataset\n",
    "from sklearn.metrics import mean_squared_error\n",
    "import torch.nn.functional as F\n",
    "from sklearn.preprocessing import StandardScaler\n",
    "\n",
    "input_dim = 19\n",
    "encoding_dim = 10\n",
    "learning_rate = 0.001\n",
    "batch_size = 19\n",
    "epochs = 3\n",
    "\n",
    "model = Autoencoder1(input_dim, encoding_dim).to(device)\n",
    "optimizer = optim.Adam(model.parameters(), lr=learning_rate)\n",
    "\n",
    "\n",
    "\n",
    "# Функция обучения\n",
    "def train(epoch, train_loader):\n",
    "    features_encoded = []\n",
    "    model.train()\n",
    "    train_loss = 0\n",
    "    for batch_idx, (data, _) in enumerate(train_loader):\n",
    "        data = data.to(device)\n",
    "        optimizer.zero_grad()\n",
    "        encoded, decoded, train_x = model(data)\n",
    "        loss = F.mse_loss(train_x, decoded)\n",
    "        loss.backward()\n",
    "        train_loss += loss.item()\n",
    "        optimizer.step()\n",
    "        \n",
    "        features_encoded.append(encoded)\n",
    "        \n",
    "        if batch_idx % 100 == 0:\n",
    "            print(f\"Эпоха {epoch} [{batch_idx * len(data)}/{len(train_loader.dataset)} \"\n",
    "                  f\"({100. * batch_idx / len(train_loader):.0f}%)]\\tПотеря: {loss.item() / len(data):.4f}\", end = '\\r', flush = True)\n",
    "\n",
    "    print()\n",
    "    print(f\"====> Эпоха {epoch} Средняя потеря: {train_loss / len(train_loader.dataset):.8f}\")\n",
    "    \n",
    "    return features_encoded\n",
    "    \n",
    "# Функция тестирования\n",
    "def test(epoch, test_loader):\n",
    "    model.eval()\n",
    "    test_loss = 0\n",
    "    with torch.no_grad():\n",
    "        for data, _ in test_loader:\n",
    "            data = data.to(device)\n",
    "            encoded, decoded, x = model(data)\n",
    "            test_loss += F.mse_loss(x, decoded)\n",
    "\n",
    "    test_loss /= len(test_loader.dataset)\n",
    "    \n",
    "    print(f\"====> Тестовая потеря: {test_loss:.8f}\")\n",
    "    print()\n",
    "\n",
    "X_train, X_test, y_train, y_test = train_test_split(features, labels_ds, test_size=0.3, random_state=42, stratify=labels_ds)\n",
    "\n",
    "scaler = StandardScaler()\n",
    "X_train_scaled = scaler.fit_transform(X_train)\n",
    "X_test_scaled = scaler.transform(X_test)\n",
    "\n",
    "print(y_train.dtypes)\n",
    "y_train = y_train.astype(int)\n",
    "print(y_train.dtypes)\n",
    "y_test = y_test.astype(int)\n",
    "\n",
    "features_trch_train = torch.tensor(X_train.values, dtype=torch.float32)\n",
    "labels_trch_train = torch.tensor(y_train.values, dtype=torch.int8)\n",
    "dataset_tns_train = TensorDataset(features_trch_train, labels_trch_train)\n",
    "data_loader_train = DataLoader(dataset_tns_train, batch_size=batch_size, shuffle=True)\n",
    "\n",
    "features_trch_test = torch.tensor(X_test.values, dtype=torch.float32)\n",
    "labels_trch_test = torch.tensor(y_test.values, dtype=torch.int8)\n",
    "dataset_tns_test = TensorDataset(features_trch_test, labels_trch_test)\n",
    "data_loader_test = DataLoader(dataset_tns_test, batch_size=batch_size, shuffle=False)\n",
    "\n",
    "# Обучение модели\n",
    "for epoch in range(1, epochs + 1):\n",
    "    features_encoded_res = train(epoch, data_loader_train)\n",
    "    test(epoch, data_loader_test)\n",
    "\n",
    "# Без скалера\n",
    "#Эпоха 3 [15200/17068 (89%)]\tПотеря: 0.0114\n",
    "#====> Эпоха 3 Средняя потеря: 0.01228871\n",
    "#====> Тестовая потеря: 0.01225518\n",
    "# со скалером\n",
    "#Эпоха 3 [15200/17079 (89%)]\tПотеря: 0.0117\n",
    "#====> Эпоха 3 Средняя потеря: 0.01227468\n",
    "#====> Тестовая потеря: 0.01224894\n"
   ]
  },
  {
   "cell_type": "code",
   "execution_count": null,
   "id": "5b7662f0-bb3b-4560-a01d-eedf874bcc6e",
   "metadata": {},
   "outputs": [],
   "source": [
    "####################################################\n",
    "# классификатор\n",
    "####################################################"
   ]
  },
  {
   "cell_type": "code",
   "execution_count": 13,
   "id": "aa1ff587-9fde-4817-89fd-4dc40771658c",
   "metadata": {},
   "outputs": [
    {
     "name": "stdout",
     "output_type": "stream",
     "text": [
      "ok\n"
     ]
    }
   ],
   "source": [
    "class Classifier1(nn.Module):\n",
    "    def __init__(self, encoding_dim, num_classes):\n",
    "        super(Classifier1, self).__init__()\n",
    "        \n",
    "        self.fc1 = nn.Linear(encoding_dim, 128)\n",
    "        self.relu1 = nn.ReLU()\n",
    "        self.fc2 = nn.Linear(128, num_classes)\n",
    "        #self.relu2 = nn.ReLU()\n",
    "\n",
    "    def classify(self, x):\n",
    "        x = self.fc1(x)  # Первый линейный слой\n",
    "        x = self.relu1(x)  # Применяем ReLU\n",
    "        x = self.fc2(x)  # Второй линейный слой\n",
    "        #x = self.relu2(x)  # Применяем ReLU\n",
    "        return x\n",
    "\n",
    "    def forward(self, x):\n",
    "        return self.classify(x)\n",
    "\n",
    "print('ok')"
   ]
  },
  {
   "cell_type": "code",
   "execution_count": null,
   "id": "9b959b4e-5e0a-45b2-aa8d-d04ea7029d8c",
   "metadata": {},
   "outputs": [],
   "source": [
    "# тренируем классификатор\n",
    "# фичи закодированные автоенкодером и метки из обучения автоенкодера"
   ]
  },
  {
   "cell_type": "code",
   "execution_count": 14,
   "id": "8bcee4f2-cf14-4cc4-be4a-a576c30b6af3",
   "metadata": {},
   "outputs": [
    {
     "name": "stdout",
     "output_type": "stream",
     "text": [
      "torch.Size([17079, 10])\n",
      "torch.Size([17079, 1])\n"
     ]
    },
    {
     "name": "stderr",
     "output_type": "stream",
     "text": [
      "d:\\temp\\ipykernel_8056\\1081363376.py:11: UserWarning: To copy construct from a tensor, it is recommended to use sourceTensor.detach().clone() or sourceTensor.detach().clone().requires_grad_(True), rather than torch.tensor(sourceTensor).\n",
      "  features_encoded_res_t = torch.tensor(features_encoded_res_tt, dtype=torch.float32)\n"
     ]
    },
    {
     "name": "stdout",
     "output_type": "stream",
     "text": [
      "====> Эпоха 0/3, Потеря: 0.00009898\n",
      "====> Эпоха 1/3, Потеря: 0.00001525\n",
      "====> Эпоха 2/3, Потеря: 0.00000736\n"
     ]
    }
   ],
   "source": [
    "num_classes = 3\n",
    "\n",
    "classifier = Classifier1(encoding_dim, num_classes).to(device)\n",
    "\n",
    "# Оптимизатор\n",
    "optimizer_clf = optim.Adam(classifier.parameters(), lr=learning_rate)\n",
    "\n",
    "features_encoded_res_tt = torch.cat(features_encoded_res)\n",
    "print(features_encoded_res_tt.size())\n",
    "\n",
    "features_encoded_res_t = torch.tensor(features_encoded_res_tt, dtype=torch.float32)\n",
    "labels_trch_clf = torch.tensor(y_train.values, dtype=torch.int8)\n",
    "print(labels_trch_clf.size())\n",
    "\n",
    "features_encoded_res_t = features_encoded_res_t.to(device)\n",
    "labels_trch_clf = labels_trch_clf.to(device)\n",
    "\n",
    "data_loader_encoded = DataLoader(TensorDataset(features_encoded_res_t, labels_trch_clf), batch_size=batch_size, shuffle=True)\n",
    "\n",
    "for epoch in range(epochs):\n",
    "    for batch_encoded, batch_labels in data_loader_encoded:\n",
    "        batch_encoded.to(device)\n",
    "        optimizer_clf.zero_grad()\n",
    "        outputs = classifier(batch_encoded)\n",
    "        batch_labels2 = batch_labels.argmax(dim=1)\n",
    "        loss = F.cross_entropy(outputs, batch_labels2)\n",
    "        \n",
    "        loss.backward()\n",
    "        optimizer_clf.step()\n",
    "    print(f\"====> Эпоха {epoch}/{epochs}, Потеря: {loss.item():.8f}\")\n",
    "\n",
    "\n"
   ]
  },
  {
   "cell_type": "code",
   "execution_count": null,
   "id": "b7e75598-7e96-492f-ae79-50853d43c2a9",
   "metadata": {},
   "outputs": [],
   "source": []
  },
  {
   "cell_type": "code",
   "execution_count": null,
   "id": "d7afa464-6609-4541-9d37-47a82d14f23f",
   "metadata": {},
   "outputs": [],
   "source": []
  },
  {
   "cell_type": "code",
   "execution_count": null,
   "id": "f3e08541-5793-47e7-8fa7-8275c5ad04f5",
   "metadata": {},
   "outputs": [],
   "source": []
  },
  {
   "cell_type": "code",
   "execution_count": null,
   "id": "ff15c313-8a66-4890-b3d4-e3e750be01c8",
   "metadata": {},
   "outputs": [],
   "source": []
  },
  {
   "cell_type": "code",
   "execution_count": null,
   "id": "ed352db4-99d5-4088-9c68-1b8c7de5ebd2",
   "metadata": {},
   "outputs": [],
   "source": []
  }
 ],
 "metadata": {
  "kernelspec": {
   "display_name": "Python 3 (ipykernel)",
   "language": "python",
   "name": "python3"
  },
  "language_info": {
   "codemirror_mode": {
    "name": "ipython",
    "version": 3
   },
   "file_extension": ".py",
   "mimetype": "text/x-python",
   "name": "python",
   "nbconvert_exporter": "python",
   "pygments_lexer": "ipython3",
   "version": "3.12.6"
  }
 },
 "nbformat": 4,
 "nbformat_minor": 5
}
