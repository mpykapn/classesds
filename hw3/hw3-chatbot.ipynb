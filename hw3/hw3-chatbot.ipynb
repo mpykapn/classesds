{
 "cells": [
  {
   "cell_type": "code",
   "execution_count": null,
   "id": "7a8b2636-e4cb-4039-ad84-0499f1852b2b",
   "metadata": {},
   "outputs": [],
   "source": [
    "# homework 3 чат-бот"
   ]
  },
  {
   "cell_type": "code",
   "execution_count": null,
   "id": "1cd2c6b2-a722-46c1-be69-522d4eb6538f",
   "metadata": {},
   "outputs": [],
   "source": [
    "\n",
    "\n",
    "#!pip install datasets\n",
    "#!pip install nltk\n",
    "\n",
    "#!pip install spacy\n",
    "#python -m spacy download ru_core_news_sm\n",
    "\n",
    "#!pip install gensim\n",
    "#!pip install plotly\n",
    "#!pip install umap\n",
    "#!pip install python-telegram-bot"
   ]
  },
  {
   "cell_type": "code",
   "execution_count": null,
   "id": "0740471e-20ea-4fec-b61d-78cd72a602aa",
   "metadata": {},
   "outputs": [],
   "source": [
    "#---------------------------------------------------------------------------------\n",
    "#      загрузка диалогов\n",
    "#---------------------------------------------------------------------------------"
   ]
  },
  {
   "cell_type": "code",
   "execution_count": 45,
   "id": "d6d8c986-d26c-42ea-962f-3d6853407719",
   "metadata": {},
   "outputs": [
    {
     "name": "stdout",
     "output_type": "stream",
     "text": [
      "<class 'pandas.core.frame.DataFrame'>\n",
      "RangeIndex: 4077 entries, 0 to 4076\n",
      "Data columns (total 3 columns):\n",
      " #   Column  Non-Null Count  Dtype \n",
      "---  ------  --------------  ----- \n",
      " 0   text    4077 non-null   object\n",
      " 1   input   4077 non-null   object\n",
      " 2   output  4077 non-null   object\n",
      "dtypes: object(3)\n",
      "memory usage: 95.7+ KB\n"
     ]
    }
   ],
   "source": [
    "import pandas as pd\n",
    "\n",
    "loaded_dataset_dialogs = pd.read_csv('chatbot-v3-dialogs.csv', sep=',')\n",
    "loaded_dataset_dialogs = loaded_dataset_dialogs[::80]\n",
    "loaded_dataset_dialogs = loaded_dataset_dialogs.reset_index(drop=True)\n",
    "\n",
    "loaded_dataset_dialogs.head()\n",
    "loaded_dataset_dialogs.info()\n"
   ]
  },
  {
   "cell_type": "code",
   "execution_count": 85,
   "id": "f75bc3fd-7e2e-4664-8ade-7b1149d8b204",
   "metadata": {},
   "outputs": [
    {
     "name": "stdout",
     "output_type": "stream",
     "text": [
      "ok\n"
     ]
    }
   ],
   "source": [
    "import spacy\n",
    "\n",
    "# формат: question, answer\n",
    "def get_indent_from_dialogs(dialog_ds, nlp):\n",
    "    all_words = []\n",
    "    tags = []\n",
    "    xy = []\n",
    "    y = []\n",
    "\n",
    "    i_len = len(dialog_ds)\n",
    "    for row in dialog_ds.itertuples():\n",
    "        doc = nlp(row.input.lower())\n",
    "        tokens = [token.lemma_ for token in doc if token.is_alpha and not token.is_stop and not token.is_punct]\n",
    "        if tokens != []:\n",
    "            tag = str('d_')+str(row.Index)\n",
    "            tags.append(tag)\n",
    "            all_words.extend(tokens)\n",
    "            xy.append((tokens, tag))\n",
    "            y.append((tag, row.output))\n",
    "        if row.Index % 100 == 0:\n",
    "            print(f\"-> {row.Index}/{i_len}  \", end='\\r', flush=True)\n",
    "\n",
    "    print()\n",
    "    return all_words, tags, xy, y\n",
    "\n",
    "print('ok')"
   ]
  },
  {
   "cell_type": "code",
   "execution_count": 86,
   "id": "efa13fd0-fd38-4f24-8bc7-71101c27c2ef",
   "metadata": {},
   "outputs": [
    {
     "name": "stdout",
     "output_type": "stream",
     "text": [
      "<class 'pandas.core.frame.DataFrame'>\n",
      "RangeIndex: 4077 entries, 0 to 4076\n",
      "Data columns (total 3 columns):\n",
      " #   Column  Non-Null Count  Dtype \n",
      "---  ------  --------------  ----- \n",
      " 0   text    4077 non-null   object\n",
      " 1   input   4077 non-null   object\n",
      " 2   output  4077 non-null   object\n",
      "dtypes: object(3)\n",
      "memory usage: 95.7+ KB\n",
      "None\n",
      "-> 4000/4077  \n",
      "3520\n",
      "d_1\n",
      "8403\n",
      "['жаркий', 'четвёртый', 'первый', 'штурман', 'капитан', 'молчать', 'a', 'конь', 'дадите', 'восемь', 'ноль', 'ноль', 'разрешить', 'сегодня', 'отдельный', 'маленький', 'детство', 'мечтать', 'открыть']\n",
      "(['четвёртый'], 'd_1')\n",
      "('d_1', '- Все считаешь?')\n",
      "ok\n"
     ]
    }
   ],
   "source": [
    "from nltk.stem import SnowballStemmer\n",
    "import spacy\n",
    "\n",
    "nlp = spacy.load('ru_core_news_sm')\n",
    "\n",
    "print(loaded_dataset_dialogs.info())\n",
    "\n",
    "all_words, tags, xy, y = get_indent_from_dialogs(loaded_dataset_dialogs, nlp)\n",
    "\n",
    "print(len(tags))\n",
    "print(tags[1])\n",
    "print(len(all_words))\n",
    "print(all_words[1:20])\n",
    "print(xy[1])\n",
    "print(y[1])\n",
    "\n",
    "print('ok')"
   ]
  },
  {
   "cell_type": "code",
   "execution_count": null,
   "id": "66e2c8b4-d28d-4022-9a77-55c8e62fd6b0",
   "metadata": {},
   "outputs": [],
   "source": [
    "# нейросеть"
   ]
  },
  {
   "cell_type": "code",
   "execution_count": 5,
   "id": "6b40c1bc-816e-431f-9d92-d57de8637989",
   "metadata": {},
   "outputs": [
    {
     "name": "stdout",
     "output_type": "stream",
     "text": [
      "ok\n"
     ]
    }
   ],
   "source": [
    "import torch\n",
    "import torch.nn as nn\n",
    "\n",
    "class NeuralNetWithBatchNorm(nn.Module):\n",
    "    def __init__(self, input_size, hidden_size, num_classes):\n",
    "        super(NeuralNetWithBatchNorm, self).__init__()\n",
    "        self.l1 = nn.Linear(input_size, hidden_size)\n",
    "        self.bn1 = nn.BatchNorm1d(hidden_size)\n",
    "        self.relu = nn.ReLU()\n",
    "        self.l2 = nn.Linear(hidden_size, hidden_size)\n",
    "        self.bn2 = nn.BatchNorm1d(hidden_size)\n",
    "        self.relu2 = nn.ReLU()\n",
    "        self.l3 = nn.Linear(hidden_size, num_classes)\n",
    "\n",
    "    def forward(self, x):\n",
    "        out = self.l1(x)\n",
    "        out = self.bn1(out)\n",
    "        out = self.relu(out)\n",
    "        out = self.l2(out)\n",
    "        out = self.bn2(out)\n",
    "        out = self.relu2(out)\n",
    "        out = self.l3(out)\n",
    "        return out\n",
    "\n",
    "print('ok')"
   ]
  },
  {
   "cell_type": "code",
   "execution_count": null,
   "id": "786fb38b-0927-4eec-9cd2-242b55e8972b",
   "metadata": {},
   "outputs": [],
   "source": [
    "# функция формирования сумки слов"
   ]
  },
  {
   "cell_type": "code",
   "execution_count": 60,
   "id": "06b1ac6b-0635-4f1f-ba4e-e0b83da7123d",
   "metadata": {},
   "outputs": [
    {
     "name": "stdout",
     "output_type": "stream",
     "text": [
      "['организова', 'организац', 'организова']\n",
      "[1. 1. 1. 0.]\n"
     ]
    }
   ],
   "source": [
    "import nltk\n",
    "import numpy as np\n",
    "from nltk.stem.snowball import SnowballStemmer\n",
    "\n",
    "def bag_of_words_2(tokenized_sentence, words):\n",
    "    \"\"\"\n",
    "    Возвращает вектор \"мешка слов\" для предложения.\n",
    "    \"\"\"\n",
    "    sentence_words = [word for word in tokenized_sentence]\n",
    "    bag = np.zeros(len(words), dtype=np.float32)\n",
    "    for idx, w in enumerate(words):\n",
    "        if w in sentence_words:\n",
    "            bag[idx] += 1\n",
    "    return bag\n",
    "\n",
    "\n",
    "def test_222():\n",
    "    stemmer_222 = SnowballStemmer(\"russian\")\n",
    "    b = [\"организовать\", \"организация\", \"организованный\"]\n",
    "    stemmed_words = [stemmer_222.stem(word) for word in b]\n",
    "    print(stemmed_words)\n",
    "    words = [\"привет\", \"как\", \"дела\", \"ты\"]\n",
    "    sentence = [\"привет\", \"у\", \"тебя\", \"как\", \"дела\", \"дела\"]\n",
    "    bag = bag_of_words_2(sentence, words)\n",
    "    print(bag)\n",
    "\n",
    "\n",
    "test_222()"
   ]
  },
  {
   "cell_type": "code",
   "execution_count": 19,
   "id": "89262bb8-7d8a-40b0-9de4-f35c9054e370",
   "metadata": {},
   "outputs": [],
   "source": [
    "# делаем датасеты для обучения"
   ]
  },
  {
   "cell_type": "code",
   "execution_count": 114,
   "id": "104a51d0-7eda-4f42-bed9-2124d27a3295",
   "metadata": {},
   "outputs": [
    {
     "name": "stdout",
     "output_type": "stream",
     "text": [
      "sort\n",
      "for\n",
      "-> 3500/3520  \n",
      "X_train\n",
      "d_1\n",
      "['жаркий', 'четвёртый', 'первый', 'штурман', 'капитан', 'молчать', 'a', 'конь', 'дадите', 'восемь', 'ноль', 'ноль', 'разрешить', 'сегодня', 'отдельный', 'маленький', 'детство', 'мечтать', 'открыть']\n",
      "(['четвёртый'], 'd_1')\n",
      "('d_1', '- Все считаешь?')\n",
      "[[1. 1. 0. ... 0. 0. 0.]\n",
      " [0. 0. 1. ... 0. 0. 0.]\n",
      " [0. 0. 0. ... 0. 0. 0.]\n",
      " ...\n",
      " [0. 0. 0. ... 0. 0. 0.]\n",
      " [0. 0. 0. ... 0. 0. 0.]\n",
      " [0. 0. 0. ... 1. 1. 1.]]\n",
      "ok\n"
     ]
    }
   ],
   "source": [
    "import json\n",
    "import numpy as np\n",
    "import torch\n",
    "import torch.nn as nn\n",
    "from itertools import islice\n",
    "\n",
    "print('sort')\n",
    "tags_sorted = sorted(set(tags))\n",
    "\n",
    "print('for')\n",
    "X_train = []\n",
    "y_train = []\n",
    "xy_len = len(xy)\n",
    "\n",
    "for xy_idx, (pattern_sentence, tag) in enumerate(xy):\n",
    "    bag = bag_of_words_2(pattern_sentence, all_words)\n",
    "    X_train.append(bag)\n",
    "\n",
    "    label = tags_sorted.index(tag)\n",
    "    y_train.append(label)\n",
    "\n",
    "    if xy_idx % 100 == 0:\n",
    "        print(f\"-> {xy_idx}/{xy_len}  \", end='\\r', flush=True)\n",
    "\n",
    "print()\n",
    "print('X_train')\n",
    "X_train = np.array(X_train)\n",
    "y_train = np.array(y_train)\n",
    "\n",
    "print(tags_sorted[1])\n",
    "print(all_words[1:20])\n",
    "print(xy[1])\n",
    "print(y[1])\n",
    "print(X_train)\n",
    "\n",
    "print('ok')"
   ]
  },
  {
   "cell_type": "code",
   "execution_count": null,
   "id": "1b4611c4-3c1b-47be-a198-8f1c92996fe1",
   "metadata": {},
   "outputs": [],
   "source": [
    "# датасет для обучения"
   ]
  },
  {
   "cell_type": "code",
   "execution_count": 89,
   "id": "29c0ea15-2292-4b0a-b027-7fb8f861dba5",
   "metadata": {},
   "outputs": [
    {
     "name": "stdout",
     "output_type": "stream",
     "text": [
      "ok\n"
     ]
    }
   ],
   "source": [
    "from torch.utils.data import Dataset, DataLoader\n",
    "\n",
    "class ChatDataset(Dataset):\n",
    "    def __init__(self):\n",
    "        self.n_samples = len(X_train)\n",
    "        self.x_data = torch.from_numpy(X_train).float()\n",
    "        self.y_data = torch.from_numpy(y_train).long()\n",
    "\n",
    "    def __getitem__(self, index):\n",
    "        return self.x_data[index], self.y_data[index]\n",
    "\n",
    "    def __len__(self):\n",
    "        return self.n_samples\n",
    "\n",
    "print('ok')"
   ]
  },
  {
   "cell_type": "code",
   "execution_count": null,
   "id": "a142d6b5-8208-48f3-ab99-1a2e2e9dda91",
   "metadata": {},
   "outputs": [],
   "source": [
    "# функция вычисления accuracy"
   ]
  },
  {
   "cell_type": "code",
   "execution_count": 63,
   "id": "5a64aabf-5435-47f6-8228-d4468487331c",
   "metadata": {},
   "outputs": [
    {
     "name": "stdout",
     "output_type": "stream",
     "text": [
      "ok\n"
     ]
    }
   ],
   "source": [
    "def calculate_accuracy(outputs, labels):\n",
    "    _, predicted = torch.max(outputs, dim=1)\n",
    "    correct = (predicted == labels).sum().item()\n",
    "    total = labels.size(0)\n",
    "    return correct / total\n",
    "\n",
    "print('ok')"
   ]
  },
  {
   "cell_type": "code",
   "execution_count": null,
   "id": "58c97851-4f0d-4044-8750-ae0f3d925503",
   "metadata": {},
   "outputs": [],
   "source": [
    "# используем GPU"
   ]
  },
  {
   "cell_type": "code",
   "execution_count": 3,
   "id": "25879413-312b-4ea0-a353-9cbd65ccefd3",
   "metadata": {},
   "outputs": [
    {
     "name": "stdout",
     "output_type": "stream",
     "text": [
      "True\n",
      "1\n",
      "NVIDIA GeForce GTX 1650\n",
      "cuda\n"
     ]
    }
   ],
   "source": [
    "import torch\n",
    "\n",
    "print(torch.cuda.is_available())  # Должно вернуть True, если GPU доступен\n",
    "print(torch.cuda.device_count())  # Количество доступных GPU\n",
    "print(torch.cuda.get_device_name(0))  # Название первого GPU\n",
    "\n",
    "device = torch.device(\"cuda\" if torch.cuda.is_available() else \"cpu\")\n",
    "print(device)"
   ]
  },
  {
   "cell_type": "code",
   "execution_count": 2,
   "id": "287c66bd-5cb7-4c68-9a27-55f28e562c84",
   "metadata": {},
   "outputs": [],
   "source": [
    "# имя файла для сохранения модели\n",
    "FILE = \"chatbot-v3-nndata.pth\""
   ]
  },
  {
   "cell_type": "code",
   "execution_count": null,
   "id": "e3b6d6a3-32d8-4fe9-b8ba-bc8ea41a1f10",
   "metadata": {},
   "outputs": [],
   "source": [
    "# Гиперпараметры"
   ]
  },
  {
   "cell_type": "code",
   "execution_count": 66,
   "id": "fd8ede1f-b4ac-4d49-be35-fbc4d35a945f",
   "metadata": {},
   "outputs": [
    {
     "name": "stdout",
     "output_type": "stream",
     "text": [
      "4077\n"
     ]
    },
    {
     "data": {
      "text/plain": [
       "8403"
      ]
     },
     "execution_count": 66,
     "metadata": {},
     "output_type": "execute_result"
    }
   ],
   "source": [
    "# Гиперпараметры\n",
    "batch_size = 8\n",
    "hidden_size = 256\n",
    "output_size = len(tags)\n",
    "input_size = len(all_words)\n",
    "learning_rate = 0.0001\n",
    "\n",
    "print(len(tags))\n",
    "len(all_words)"
   ]
  },
  {
   "cell_type": "code",
   "execution_count": null,
   "id": "5d6077a8-f289-40fb-8721-e657a8c5b42f",
   "metadata": {},
   "outputs": [],
   "source": [
    "# train"
   ]
  },
  {
   "cell_type": "code",
   "execution_count": 117,
   "id": "471552ae-48ad-4a01-b772-b9acd11ffff0",
   "metadata": {},
   "outputs": [],
   "source": [
    "epochs = 100"
   ]
  },
  {
   "cell_type": "code",
   "execution_count": 118,
   "id": "3e54ae06-f12f-4f50-ad6a-97c2e7452289",
   "metadata": {},
   "outputs": [
    {
     "name": "stdout",
     "output_type": "stream",
     "text": [
      "ok\n"
     ]
    }
   ],
   "source": [
    "dataset = ChatDataset()\n",
    "train_loader = DataLoader(dataset=dataset, batch_size=batch_size, shuffle=True)\n",
    "\n",
    "model = NeuralNetWithBatchNorm(input_size, hidden_size, output_size).to(device)\n",
    "\n",
    "criterion = nn.CrossEntropyLoss()\n",
    "\n",
    "optimizer = torch.optim.Adam(model.parameters(), lr=learning_rate)\n",
    "\n",
    "train_losses = []\n",
    "train_accuracy = []\n",
    "train_precision = []\n",
    "\n",
    "print('ok')"
   ]
  },
  {
   "cell_type": "code",
   "execution_count": null,
   "id": "4193d66f-5975-40c7-a5ab-176997418c8c",
   "metadata": {},
   "outputs": [],
   "source": [
    "# Обучение модели"
   ]
  },
  {
   "cell_type": "code",
   "execution_count": 123,
   "id": "8abd7a7a-2617-4448-ba74-1e1159f82829",
   "metadata": {},
   "outputs": [
    {
     "name": "stdout",
     "output_type": "stream",
     "text": [
      "Начало обучения модели...\n",
      "Эпоха [50/100], avg loss: 0.26492840 avg accuracy 0.87414773 precision: 0.86486742   \n",
      "Эпоха [100/100], avg loss: 0.25532519 avg accuracy 0.87500000 precision: 0.86541193   \n",
      "\n",
      "Обучение завершено.\n"
     ]
    }
   ],
   "source": [
    "from sklearn.metrics import precision_score\n",
    "\n",
    "\n",
    "\n",
    "log(\"Начало обучения модели...\")\n",
    "model.train()\n",
    "for epoch in range(epochs):\n",
    "    total_loss = 0\n",
    "    total_accuracy = 0\n",
    "    num_batches = 0\n",
    "    all_predicted = []\n",
    "    all_labels = []\n",
    "    \n",
    "    for (words, labels) in train_loader:\n",
    "        words = words.to(device)\n",
    "        labels = labels.to(device)\n",
    "\n",
    "        outputs = model(words)\n",
    "        loss = criterion(outputs, labels)\n",
    "\n",
    "        optimizer.zero_grad()\n",
    "        loss.backward()\n",
    "        optimizer.step()\n",
    "\n",
    "        total_loss += loss.item()\n",
    "        accuracy = calculate_accuracy(outputs, labels)\n",
    "        total_accuracy += accuracy\n",
    "        num_batches += 1\n",
    "\n",
    "        _, predicted = torch.max(outputs, dim=1)\n",
    "        all_predicted.extend(predicted.cpu().numpy())\n",
    "        all_labels.extend(labels.cpu().numpy())\n",
    "\n",
    "    avg_loss = total_loss / num_batches\n",
    "    avg_accuracy = total_accuracy / num_batches\n",
    "    precision = precision_score(all_labels, all_predicted, average='weighted', zero_division=0)\n",
    "    \n",
    "    print(f'Эпоха [{epoch+1}/{epochs}], loss: {avg_loss:.8f} accuracy: {avg_accuracy:.8f} precision: {precision:.8f}', end = '\\r', flush = True)\n",
    "    \n",
    "    train_losses.append(avg_loss)\n",
    "    train_accuracy.append(avg_accuracy)\n",
    "    train_precision.append(precision)\n",
    "    \n",
    "    if (epoch + 1) % 50 == 0:\n",
    "        print(f'Эпоха [{epoch+1}/{epochs}], avg loss: {avg_loss:.8f} avg accuracy {avg_accuracy:.8f} precision: {precision:.8f}   ', flush = True)\n",
    "    \n",
    "print()\n",
    "\n",
    "log(\"Обучение завершено.\")"
   ]
  },
  {
   "cell_type": "code",
   "execution_count": null,
   "id": "5681293a-2098-4944-8b18-6eddc0ebd246",
   "metadata": {},
   "outputs": [],
   "source": [
    "# сохранение модели в файл"
   ]
  },
  {
   "cell_type": "code",
   "execution_count": 121,
   "id": "06754f68-8068-4f91-ada6-11333c70ab16",
   "metadata": {},
   "outputs": [
    {
     "name": "stdout",
     "output_type": "stream",
     "text": [
      "Модель сохранена в chatbot-v3-nndata.pth\n"
     ]
    }
   ],
   "source": [
    "data = {\n",
    "    \"model_state\": model.state_dict(),\n",
    "    \"input_size\": input_size,\n",
    "    \"output_size\": output_size,\n",
    "    \"hidden_size\": hidden_size,\n",
    "    \"all_words\": all_words,\n",
    "    \"tags\": tags,\n",
    "    \"y\" : y,\n",
    "    \"xy\": xy,\n",
    "    \"train_losses\": train_losses,\n",
    "    \"train_accuracy\": train_accuracy,\n",
    "    \"train_precision\": train_precision\n",
    "\n",
    "}\n",
    "\n",
    "torch.save(data, FILE)\n",
    "\n",
    "log(f\"Модель сохранена в {FILE}\")"
   ]
  },
  {
   "cell_type": "code",
   "execution_count": null,
   "id": "ec0da396-66fa-4757-89ac-c634b6c434c1",
   "metadata": {},
   "outputs": [],
   "source": [
    "# графики обучения"
   ]
  },
  {
   "cell_type": "code",
   "execution_count": 120,
   "id": "4a9f330f-e3d8-42ac-adcd-e35578ccad7f",
   "metadata": {},
   "outputs": [
    {
     "data": {
      "image/png": "[encoded data removed]",
      "text/plain": [
       "<Figure size 1000x500 with 1 Axes>"
      ]
     },
     "metadata": {},
     "output_type": "display_data"
    },
    {
     "data": {
      "image/png": "[encoded data removed]",
      "text/plain": [
       "<Figure size 1000x500 with 1 Axes>"
      ]
     },
     "metadata": {},
     "output_type": "display_data"
    },
    {
     "data": {
      "image/png": "[encoded data removed]",
      "text/plain": [
       "<Figure size 1000x500 with 1 Axes>"
      ]
     },
     "metadata": {},
     "output_type": "display_data"
    }
   ],
   "source": [
    "import seaborn as sns\n",
    "import matplotlib.pyplot as plt\n",
    "\n",
    "    \n",
    "plt.figure(figsize=(10, 5))\n",
    "plt.plot(range(1, len(train_losses) + 1), train_losses, label='loss', color='blue')\n",
    "#plt.plot(range(1, epochs + 1), torch.stack(test_losses).cpu(), label='test', color='orange')\n",
    "plt.title('train and test loss')\n",
    "plt.xlabel('эпохи')\n",
    "plt.ylabel('потери')\n",
    "plt.legend()\n",
    "plt.grid(True)\n",
    "plt.show()\n",
    "\n",
    "plt.figure(figsize=(10, 5))\n",
    "plt.plot(range(1, len(train_accuracy) + 1), train_accuracy, label='accuracy', color='red')\n",
    "plt.title('accuracy')\n",
    "plt.xlabel('эпохи')\n",
    "plt.ylabel('значение')\n",
    "plt.legend()\n",
    "plt.grid(True)\n",
    "plt.show()\n",
    "\n",
    "plt.figure(figsize=(10, 5))\n",
    "plt.plot(range(1, len(train_precision) + 1), train_precision, label='precision', color='green')\n",
    "plt.title('precision')\n",
    "plt.xlabel('эпохи')\n",
    "plt.ylabel('значение')\n",
    "plt.legend()\n",
    "plt.grid(True)\n",
    "plt.show()\n"
   ]
  },
  {
   "cell_type": "code",
   "execution_count": null,
   "id": "7eb6e03f-c2d1-4cf1-b563-9a213100606e",
   "metadata": {},
   "outputs": [],
   "source": [
    "# загрузка сохраненной модели"
   ]
  },
  {
   "cell_type": "code",
   "execution_count": 6,
   "id": "4d9f8413-a445-4ad7-9c3b-040f91486281",
   "metadata": {},
   "outputs": [
    {
     "name": "stdout",
     "output_type": "stream",
     "text": [
      "ok\n"
     ]
    }
   ],
   "source": [
    "import torch\n",
    "\n",
    "data = torch.load(FILE)\n",
    "\n",
    "input_size = data[\"input_size\"]\n",
    "hidden_size = data[\"hidden_size\"]\n",
    "output_size = data[\"output_size\"]\n",
    "all_words = data[\"all_words\"]\n",
    "tags = data[\"tags\"]\n",
    "model_state = data[\"model_state\"]\n",
    "y = data[\"y\"]\n",
    "xy = data[\"xy\"]\n",
    "\n",
    "train_losses = data[\"train_losses\"]\n",
    "train_accuracy = data[\"train_accuracy\"]\n",
    "train_precision = data[\"train_precision\"]\n",
    "\n",
    "model = NeuralNetWithBatchNorm(input_size, hidden_size, output_size).to(device)\n",
    "model.load_state_dict(model_state)\n",
    "model.eval()\n",
    "\n",
    "print('ok')"
   ]
  },
  {
   "cell_type": "code",
   "execution_count": null,
   "id": "bbf6f54f-8a09-49f1-bc4c-a7ef77289a40",
   "metadata": {},
   "outputs": [],
   "source": [
    "# chat"
   ]
  },
  {
   "cell_type": "code",
   "execution_count": 122,
   "id": "2ad985d0-ca75-4e72-a777-5a0bbc230f5c",
   "metadata": {},
   "outputs": [
    {
     "name": "stdout",
     "output_type": "stream",
     "text": [
      "Давайте поговорим! (наберите 'выйти' для завершения)\n",
      "\n"
     ]
    },
    {
     "name": "stdin",
     "output_type": "stream",
     "text": [
      "Вы:  привет мопед\n"
     ]
    },
    {
     "name": "stdout",
     "output_type": "stream",
     "text": [
      "doc_chat: привет мопед\n",
      "tokens_chat: ['привет', 'мопед']\n",
      "tokenized sentence: ['привет', 'мопед']\n",
      "[0. 0. 0. ... 0. 0. 0.]\n",
      "predicted 851\n",
      "xy: (['парень'], 'd_1020')\n",
      "prob: 0.34024232625961304 tag: d_1020\n",
      "ЧатБот: - Да, хи, мы друзья.\n",
      "\n"
     ]
    },
    {
     "name": "stdin",
     "output_type": "stream",
     "text": [
      "Вы:  какие мы друзья?\n"
     ]
    },
    {
     "name": "stdout",
     "output_type": "stream",
     "text": [
      "doc_chat: какие мы друзья?\n",
      "tokens_chat: ['друг']\n",
      "tokenized sentence: ['друг']\n",
      "[0. 0. 0. ... 0. 0. 0.]\n",
      "predicted 3476\n",
      "xy: (['извергнуть', 'любить'], 'd_4029')\n",
      "prob: 0.9361853003501892 tag: d_4029\n",
      "ЧатБот: - Ой, подруга, да просто я вчера нацепила сережки в виде комаров!\n",
      "\n"
     ]
    },
    {
     "name": "stdin",
     "output_type": "stream",
     "text": [
      "Вы:  комары слетелись на твои сережки?\n"
     ]
    },
    {
     "name": "stdout",
     "output_type": "stream",
     "text": [
      "doc_chat: комары слетелись на твои сережки?\n",
      "tokens_chat: ['комар', 'слететься', 'серёжка']\n",
      "tokenized sentence: ['комар', 'слететься', 'серёжка']\n",
      "[0. 0. 0. ... 0. 0. 0.]\n",
      "predicted 471\n",
      "xy: (['здравствуй', 'свиданья'], 'd_573')\n",
      "prob: 0.9998576641082764 tag: d_573\n",
      "ЧатБот: - Можем.\n",
      "\n"
     ]
    },
    {
     "name": "stdin",
     "output_type": "stream",
     "text": [
      "Вы:  и что ты можешь\n"
     ]
    },
    {
     "name": "stdout",
     "output_type": "stream",
     "text": [
      "doc_chat: и что ты можешь\n",
      "tokens_chat: []\n",
      "tokenized sentence: []\n",
      "[0. 0. 0. ... 0. 0. 0.]\n",
      "predicted 426\n",
      "xy: (['джордж', 'делать'], 'd_519')\n",
      "prob: 0.017569035291671753 tag: d_519\n",
      "ЧатБот: - Расти руку!\n",
      "\n"
     ]
    },
    {
     "name": "stdin",
     "output_type": "stream",
     "text": [
      "Вы:  рука у меня нужной длины не то что твоя\n"
     ]
    },
    {
     "name": "stdout",
     "output_type": "stream",
     "text": [
      "doc_chat: рука у меня нужной длины не то что твоя\n",
      "tokens_chat: ['рука', 'нужный', 'длина']\n",
      "tokenized sentence: ['рука', 'нужный', 'длина']\n",
      "[0. 0. 0. ... 0. 0. 0.]\n",
      "predicted 1064\n",
      "xy: (['обыгрывать'], 'd_1271')\n",
      "prob: 0.46054530143737793 tag: d_1271\n",
      "ЧатБот: - Кого?\n",
      "\n"
     ]
    },
    {
     "name": "stdin",
     "output_type": "stream",
     "text": [
      "Вы:  того не выеживайся\n"
     ]
    },
    {
     "name": "stdout",
     "output_type": "stream",
     "text": [
      "doc_chat: того не выеживайся\n",
      "tokens_chat: ['выеживайся']\n",
      "tokenized sentence: ['выеживайся']\n",
      "[0. 0. 0. ... 0. 0. 0.]\n",
      "predicted 426\n",
      "xy: (['джордж', 'делать'], 'd_519')\n",
      "prob: 0.017569035291671753 tag: d_519\n",
      "ЧатБот: - Расти руку!\n",
      "\n"
     ]
    },
    {
     "name": "stdin",
     "output_type": "stream",
     "text": [
      "Вы:  тупень ты какойто\n"
     ]
    },
    {
     "name": "stdout",
     "output_type": "stream",
     "text": [
      "doc_chat: тупень ты какойто\n",
      "tokens_chat: ['тупень', 'какойто']\n",
      "tokenized sentence: ['тупень', 'какойто']\n",
      "[0. 0. 0. ... 0. 0. 0.]\n",
      "predicted 426\n",
      "xy: (['джордж', 'делать'], 'd_519')\n",
      "prob: 0.017569035291671753 tag: d_519\n",
      "ЧатБот: - Расти руку!\n",
      "\n"
     ]
    },
    {
     "name": "stdin",
     "output_type": "stream",
     "text": [
      "Вы:  трам парарам\n"
     ]
    },
    {
     "name": "stdout",
     "output_type": "stream",
     "text": [
      "doc_chat: трам парарам\n",
      "tokens_chat: ['трам', 'парарам']\n",
      "tokenized sentence: ['трам', 'парарам']\n",
      "[0. 0. 0. ... 0. 0. 0.]\n",
      "predicted 426\n",
      "xy: (['джордж', 'делать'], 'd_519')\n",
      "prob: 0.017569035291671753 tag: d_519\n",
      "ЧатБот: - Расти руку!\n",
      "\n"
     ]
    },
    {
     "name": "stdin",
     "output_type": "stream",
     "text": [
      "Вы:  расскажи анекдот\n"
     ]
    },
    {
     "name": "stdout",
     "output_type": "stream",
     "text": [
      "doc_chat: расскажи анекдот\n",
      "tokens_chat: ['рассказать', 'анекдот']\n",
      "tokenized sentence: ['рассказать', 'анекдот']\n",
      "[0. 0. 0. ... 0. 0. 0.]\n",
      "predicted 2041\n",
      "xy: (['жора', 'давать', 'поменяемся', 'жена'], 'd_2440')\n",
      "prob: 0.8362827301025391 tag: d_2440\n",
      "ЧатБот: - Фима, но у меня нет жены!\n",
      "\n"
     ]
    },
    {
     "name": "stdin",
     "output_type": "stream",
     "text": [
      "Вы:  улетела в тимбухту?\n"
     ]
    },
    {
     "name": "stdout",
     "output_type": "stream",
     "text": [
      "doc_chat: улетела в тимбухту?\n",
      "tokens_chat: ['улететь', 'тимбухту']\n",
      "tokenized sentence: ['улететь', 'тимбухту']\n",
      "[0. 0. 0. ... 0. 0. 0.]\n",
      "predicted 766\n",
      "xy: (['ослепну'], 'd_922')\n",
      "prob: 0.9999064207077026 tag: d_922\n",
      "ЧатБот: - Мама не ослепнет?\n",
      "\n"
     ]
    },
    {
     "name": "stdin",
     "output_type": "stream",
     "text": [
      "Вы:  не ослепнет\n"
     ]
    },
    {
     "name": "stdout",
     "output_type": "stream",
     "text": [
      "doc_chat: не ослепнет\n",
      "tokens_chat: ['ослепнуть']\n",
      "tokenized sentence: ['ослепнуть']\n",
      "[0. 0. 0. ... 0. 0. 0.]\n",
      "predicted 2656\n",
      "xy: (['дело'], 'd_3117')\n",
      "prob: 0.0401516854763031 tag: d_3117\n",
      "ЧатБот: - Принимайте на передержку троих дамбасян.\n",
      "\n"
     ]
    },
    {
     "name": "stdin",
     "output_type": "stream",
     "text": [
      "Вы:  \n"
     ]
    },
    {
     "name": "stdout",
     "output_type": "stream",
     "text": [
      "ok\n"
     ]
    }
   ],
   "source": [
    "from nltk.stem import SnowballStemmer\n",
    "import spacy\n",
    "\n",
    "model.eval()\n",
    "\n",
    "nlp_chat = spacy.load('ru_core_news_sm')\n",
    "stemmer_chat = SnowballStemmer(\"russian\")\n",
    "\n",
    "def tokenize_chat(sentence):\n",
    "    tokens_chat = []\n",
    "    doc_chat = nlp_chat(sentence.lower())\n",
    "    log(f'doc_chat: {doc_chat}')\n",
    "    token_chat = [token.lemma_ for token in doc_chat if token.is_alpha and not token.is_stop]\n",
    "    tokens_chat.extend(token_chat)\n",
    "    log(f'tokens_chat: {tokens_chat}')\n",
    "    return tokens_chat\n",
    "\n",
    "\n",
    "\n",
    "bot_name = \"ЧатБот\"\n",
    "print(\"Давайте поговорим! (наберите 'выйти' для завершения)\")\n",
    "\n",
    "while True:\n",
    "    print()\n",
    "    sentence = input(\"Вы: \")\n",
    "    if sentence in (\"выйти\", \"q\", \"й\") or len(sentence) == 0:\n",
    "        break\n",
    "\n",
    "    sentence = tokenize_chat(sentence)\n",
    "    print(f'tokenized sentence: {sentence}')\n",
    "    X = bag_of_words_2(sentence, all_words)\n",
    "    print(X)\n",
    "    X = X.reshape(1, X.shape[0])\n",
    "    X = torch.from_numpy(X).float().to(device)\n",
    "\n",
    "    output = model(X)\n",
    "    _, predicted = torch.max(output, dim=1)\n",
    "    print(f'predicted {predicted.item()}')\n",
    "\n",
    "    tag = tags[predicted.item()]\n",
    "    \n",
    "    for wxy in xy:\n",
    "        if wxy[1] == str(tag):\n",
    "            print(f'xy: {wxy}')\n",
    "    \n",
    "    probs = torch.softmax(output, dim=1)\n",
    "    prob = probs[0][predicted.item()]\n",
    "    print(f'prob: {prob} tag: {tag}')\n",
    "    if prob.item() > 0.0:\n",
    "        for answ in y:\n",
    "            if tag == answ[0]:\n",
    "                response = answ[1]\n",
    "                print(f\"{bot_name}: {response}\")\n",
    "                break\n",
    "    else:\n",
    "        print(f\"{bot_name}: Я не совсем понял...\")\n",
    "\n",
    "print('ok')"
   ]
  },
  {
   "cell_type": "code",
   "execution_count": null,
   "id": "278f1dc6-f468-4f01-abf9-c552adc36b59",
   "metadata": {},
   "outputs": [],
   "source": []
  }
 ],
 "metadata": {
  "kernelspec": {
   "display_name": "Python 3 (ipykernel)",
   "language": "python",
   "name": "python3"
  },
  "language_info": {
   "codemirror_mode": {
    "name": "ipython",
    "version": 3
   },
   "file_extension": ".py",
   "mimetype": "text/x-python",
   "name": "python",
   "nbconvert_exporter": "python",
   "pygments_lexer": "ipython3",
   "version": "3.9.13"
  }
 },
 "nbformat": 4,
 "nbformat_minor": 5
}
